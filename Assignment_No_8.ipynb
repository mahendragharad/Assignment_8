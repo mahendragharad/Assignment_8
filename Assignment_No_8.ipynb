{
  "nbformat": 4,
  "nbformat_minor": 0,
  "metadata": {
    "colab": {
      "provenance": []
    },
    "kernelspec": {
      "name": "python3",
      "display_name": "Python 3"
    },
    "language_info": {
      "name": "python"
    }
  },
  "cells": [
    {
      "cell_type": "markdown",
      "source": [
        "**1. Is the Python Standard Library included with PyInputPlus?**\n",
        "\n",
        "ANS : No, the Python Standard Library and PyInputPlus are separate entities.\n",
        "\n",
        "The Python Standard Library is a collection of modules and packages that are distributed with Python itself. It provides a wide range of functionality, including file operations, network communication, data manipulation, and more. The Python Standard Library comes bundled with Python installations, and you can directly import and use its modules in your Python programs without any additional installation steps.\n",
        "\n",
        "On the other hand, PyInputPlus is not part of the Python Standard Library. It is a separate third-party library that provides additional functionality for taking user input in a convenient and robust manner. PyInputPlus is not included by default with Python installations, so you need to install it separately using tools like pip. PyInputPlus extends the functionality of the built-in input() function and provides features like input validation, automatic conversion of input types, and input retries."
      ],
      "metadata": {
        "id": "R3eqXjTemG8U"
      }
    },
    {
      "cell_type": "markdown",
      "source": [
        "\n",
        "\n",
        "---\n",
        "\n"
      ],
      "metadata": {
        "id": "yS1Db3YVoQuZ"
      }
    },
    {
      "cell_type": "markdown",
      "source": [
        "**2. Why is PyInputPlus commonly imported with import pyinputplus as pypi?**\n",
        "\n",
        "ANS :    \n",
        "\n",
        "'PyInputPlus is commonly imported with import pyinputplus as pypi to provide a shorter and more convenient alias for the module name.\n",
        "\n",
        "By using the as keyword during the import statement, you can assign a different name (alias) to the imported module. This allows you to refer to the module using the assigned alias instead of the full module name throughout your code.\n",
        "\n",
        "The alias pypi (or any other name of your choosing) can be used as a shorthand to access the PyInputPlus module and its functions. This can make the code more concise and readable, especially when you need to use PyInputPlus functions multiple times."
      ],
      "metadata": {
        "id": "cA9wO59hoSDi"
      }
    },
    {
      "cell_type": "markdown",
      "source": [
        "\n",
        "\n",
        "---\n",
        "\n"
      ],
      "metadata": {
        "id": "_vKCZIMNpaQz"
      }
    },
    {
      "cell_type": "markdown",
      "source": [
        "**3. How do you distinguish between inputInt() and inputFloat()?**\n",
        "\n",
        "ANS :     \n",
        "\n",
        "* inputInt():\n",
        "\n",
        "inputInt() is used when you specifically want to accept an integer value as input from the user.\n",
        "\n",
        "It ensures that the user's input can be converted to an integer before returning the value.\n",
        "\n",
        "If the user enters a non-integer value or a value that cannot be converted to an integer, an error message is displayed, and the user is prompted again until a valid integer input is provided.\n",
        "\n",
        "Example usage: age = pypi.inputInt(\"Enter your age: \")\n",
        "\n",
        "* inputFloat():\n",
        "\n",
        "inputFloat() is used when you want to accept a floating-point number (decimal number) as input from the user.\n",
        "\n",
        "It allows the user to enter either an integer or a decimal value, which is then returned as a float.\n",
        "\n",
        "If the user enters a non-numeric value or a value that cannot be converted to a float, an error message is displayed, and the user is prompted again until a valid float input is provided.\n",
        "\n",
        "Example usage: weight = pypi.inputFloat(\"Enter your weight: \")"
      ],
      "metadata": {
        "id": "ggzv4Ixypgru"
      }
    },
    {
      "cell_type": "markdown",
      "source": [
        "\n",
        "\n",
        "---\n",
        "\n"
      ],
      "metadata": {
        "id": "v-s8Z6vaqmEE"
      }
    },
    {
      "cell_type": "markdown",
      "source": [
        "**4. Using PyInputPlus, how do you ensure that the user enters a whole number between 0 and 99?**\n",
        "\n",
        "ANS :    \n",
        "To ensure that the user enters a whole number between 0 and 99 using PyInputPlus, you can utilize the inputInt() function along with the min and max arguments. Here's an example:\n",
        "\n"
      ],
      "metadata": {
        "id": "rjPVc7Nvqnb9"
      }
    },
    {
      "cell_type": "code",
      "execution_count": 3,
      "metadata": {
        "colab": {
          "base_uri": "https://localhost:8080/"
        },
        "id": "J5sE_GaKmEy-",
        "outputId": "3e44e13b-2493-440e-8350-aaf8bb1da221"
      },
      "outputs": [
        {
          "output_type": "stream",
          "name": "stdout",
          "text": [
            "Enter a number between 0 and 99: 89\n",
            "Valid number entered: 89\n"
          ]
        }
      ],
      "source": [
        "import pyinputplus as pypi\n",
        "\n",
        "number = pypi.inputInt(\"Enter a number between 0 and 99: \", min=0, max=99)\n",
        "\n",
        "print(\"Valid number entered:\", number)\n"
      ]
    },
    {
      "cell_type": "markdown",
      "source": [
        "\n",
        "\n",
        "---\n",
        "\n"
      ],
      "metadata": {
        "id": "OTTZU32grAgt"
      }
    },
    {
      "cell_type": "markdown",
      "source": [
        "**5. What is transferred to the keyword arguments allowRegexes and blockRegexes?**\n",
        "\n",
        "ANS :    \n",
        "The allowRegexes and blockRegexes keyword arguments in PyInputPlus allow you to specify regular expressions (regexes) for allowing or blocking certain patterns of user input.\n",
        "\n",
        "Here's a brief explanation of each keyword argument:\n",
        "\n",
        "* **allowRegexes:**\n",
        "\n",
        "The allowRegexes keyword argument accepts a list of regular expressions as patterns that are allowed as valid input.\n",
        "\n",
        "If allowRegexes is specified, only the user input that matches one of the provided regex patterns is considered valid.\n",
        "\n",
        "If the user enters input that does not match any of the specified regex patterns, an error message is displayed, and the user is prompted again until a valid input is provided.\n",
        "\n",
        "Example usage: input_str = pypi.inputStr(\"Enter a string: \", allowRegexes=[r'^[A-Za-z]+$'])\n",
        "\n",
        "In this example, the user is prompted to enter a string that consists only of alphabetic characters. Any other input will be rejected.\n",
        "\n",
        "The regex pattern r'^[A-Za-z]+$' ensures that the input contains only uppercase or lowercase letters.\n",
        "\n",
        "* **blockRegexes:**\n",
        "\n",
        "The blockRegexes keyword argument accepts a list of regular expressions as patterns that are blocked or disallowed as input.\n",
        "\n",
        "If blockRegexes is specified, any user input that matches any of the provided regex patterns is considered invalid.\n",
        "\n",
        "If the user enters input that matches any of the specified regex patterns, an error message is displayed, and the user is prompted again until a valid input is provided.\n",
        "\n",
        "Example usage: number = pypi.inputNum(\"Enter a number: \", blockRegexes=[r'^-'])\n",
        "In this example, the user is prompted to enter a number, but any negative numbers are blocked.\n",
        "\n",
        "The regex pattern r'^-' ensures that the input does not start with a minus sign, effectively blocking negative numbers."
      ],
      "metadata": {
        "id": "kcAs18_brTES"
      }
    },
    {
      "cell_type": "markdown",
      "source": [
        "\n",
        "\n",
        "---\n",
        "\n"
      ],
      "metadata": {
        "id": "7x2_q28rsFOe"
      }
    },
    {
      "cell_type": "markdown",
      "source": [
        "**6. If a blank input is entered three times, what does inputStr(limit=3) do?**\n",
        "\n",
        "ANS :      \n",
        "If a blank input is entered three times consecutively while using inputStr(limit=3) in PyInputPlus, the function will raise a TimeoutException."
      ],
      "metadata": {
        "id": "_iEr4WLZsHEZ"
      }
    },
    {
      "cell_type": "markdown",
      "source": [
        "****"
      ],
      "metadata": {
        "id": "29NO0h_9mGVA"
      }
    },
    {
      "cell_type": "markdown",
      "source": [
        "**7. If blank input is entered three times, what does inputStr(limit=3, default=&#39;hello&#39;) do?**\n",
        "\n",
        "ANS :  If blank input is entered three times consecutively while using inputStr(limit=3, default='hello') in PyInputPlus, the function will return the default value 'hello' instead of raising a TimeoutException."
      ],
      "metadata": {
        "id": "w9Hd_1s5sbQs"
      }
    },
    {
      "cell_type": "markdown",
      "source": [
        "\n",
        "\n",
        "---\n",
        "\n"
      ],
      "metadata": {
        "id": "OSguJFB1spUm"
      }
    }
  ]
}